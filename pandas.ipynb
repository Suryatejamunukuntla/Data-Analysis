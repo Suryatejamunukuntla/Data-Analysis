{
 "cells": [
  {
   "cell_type": "markdown",
   "id": "1e83aae2",
   "metadata": {},
   "source": [
    "# Pandas – Data Analysis Library"
   ]
  },
  {
   "cell_type": "markdown",
   "id": "867eb14c",
   "metadata": {},
   "source": [
    "## 1. Why Learn Pandas?\n",
    "### What is it?\n",
    "\n",
    "Pandas is a Python library for data manipulation and analysis. It provides Series (1D) and DataFrames (2D tabular data)."
   ]
  },
  {
   "cell_type": "markdown",
   "id": "978266fd",
   "metadata": {},
   "source": [
    "### Why we need it?\n",
    "  1.Simplifies data cleaning, exploration, and manipulation.\n",
    "\n",
    "  2.Handles large datasets efficiently.\n",
    "\n",
    "  3.Built on top of NumPy for fast computations.\n",
    "\n",
    "### Where is it used?\n",
    "  1.Data Analysis & Reporting\n",
    "\n",
    "  2.Machine Learning (preprocessing datasets)\n",
    "\n",
    "  3.Finance, Healthcare, Marketing data analysis\n",
    "\n",
    "  4.CSV/Excel/SQL data handling\n",
    "  "
   ]
  },
  {
   "cell_type": "markdown",
   "id": "b572952f",
   "metadata": {},
   "source": [
    "## 2. import Pandas"
   ]
  },
  {
   "cell_type": "code",
   "execution_count": 2,
   "id": "41499bfd",
   "metadata": {},
   "outputs": [],
   "source": [
    "import pandas as pd"
   ]
  },
  {
   "cell_type": "markdown",
   "id": "79b632aa",
   "metadata": {},
   "source": [
    "## 3.Series & DataFrames"
   ]
  },
  {
   "cell_type": "code",
   "execution_count": 4,
   "id": "bf2ae208",
   "metadata": {},
   "outputs": [
    {
     "name": "stdout",
     "output_type": "stream",
     "text": [
      "Series:\n",
      " 0    10\n",
      "1    20\n",
      "2    30\n",
      "3    40\n",
      "dtype: int64\n",
      "\n",
      "DataFrame:\n",
      "       Name  Age\n",
      "0    Alice   25\n",
      "1      Bob   30\n",
      "2  Charlie   35\n"
     ]
    }
   ],
   "source": [
    "# Series\n",
    "s = pd.Series([10, 20, 30, 40]) \n",
    "print(\"Series:\\n\", s) \n",
    "# DataFrame from dict \n",
    "data = {'Name': ['Alice','Bob','Charlie'], 'Age':[25,30,35]} \n",
    "df = pd.DataFrame(data) \n",
    "print(\"\\nDataFrame:\\n\", df)"
   ]
  },
  {
   "cell_type": "markdown",
   "id": "2da6311c",
   "metadata": {},
   "source": [
    "## 4. Reading & Exploring Data"
   ]
  },
  {
   "cell_type": "code",
   "execution_count": null,
   "id": "e2e6aab1",
   "metadata": {},
   "outputs": [
    {
     "name": "stdout",
     "output_type": "stream",
     "text": [
      "      Name  Age Sex\n",
      "0    Alice   25   F\n",
      "1      Bob   30   M\n",
      "2  Charlie   35   M\n",
      "      Name  Age Sex\n",
      "0    Alice   25   F\n",
      "1      Bob   30   M\n",
      "2  Charlie   35   M\n",
      "\n",
      "<class 'pandas.core.frame.DataFrame'>\n",
      "RangeIndex: 3 entries, 0 to 2\n",
      "Data columns (total 3 columns):\n",
      " #   Column  Non-Null Count  Dtype \n",
      "---  ------  --------------  ----- \n",
      " 0   Name    3 non-null      object\n",
      " 1   Age     3 non-null      int64 \n",
      " 2   Sex     3 non-null      object\n",
      "dtypes: int64(1), object(2)\n",
      "memory usage: 204.0+ bytes\n",
      "None\n",
      "\n",
      "        Age\n",
      "count   3.0\n",
      "mean   30.0\n",
      "std     5.0\n",
      "min    25.0\n",
      "25%    27.5\n",
      "50%    30.0\n",
      "75%    32.5\n",
      "max    35.0\n",
      "(3, 3)\n"
     ]
    }
   ],
   "source": [
    "\n",
    "# Read CSV (replace with your file path)\n",
    "##df = pd.read_csv(\"titanic.csv\")\n",
    "\n",
    "#Example DataFrame\n",
    "data = {'Name':['Alice','Bob','Charlie'],'Age':[25,30,35],'Sex':['F','M','M']}\n",
    "df = pd.DataFrame(data)\n",
    " \n",
    "# Explore\n",
    "print(df.head())\n",
    "print(df.tail())\n",
    "print()\n",
    "print(df.info())\n",
    "print()\n",
    "print(df.describe())\n",
    "print(df.shape)\n",
    " "
   ]
  },
  {
   "cell_type": "markdown",
   "id": "5883b24e",
   "metadata": {},
   "source": [
    "## 5. Selecting Columns & Rows"
   ]
  },
  {
   "cell_type": "code",
   "execution_count": 16,
   "id": "6c3b45ec",
   "metadata": {},
   "outputs": [
    {
     "name": "stdout",
     "output_type": "stream",
     "text": [
      "0      Alice\n",
      "1        Bob\n",
      "2    Charlie\n",
      "Name: Name, dtype: object\n",
      "      Name  Age\n",
      "0    Alice   25\n",
      "1      Bob   30\n",
      "2  Charlie   35\n",
      "Name    Alice\n",
      "Age        25\n",
      "Sex         F\n",
      "Name: 0, dtype: object\n",
      "Name    Alice\n",
      "Age        25\n",
      "Sex         F\n",
      "Name: 0, dtype: object\n",
      "    Name Sex\n",
      "0  Alice   F\n",
      "1    Bob   M\n"
     ]
    }
   ],
   "source": [
    "# Select column\n",
    "print(df['Name'])\n",
    " \n",
    "# Select multiple columns\n",
    "print(df[['Name','Age']])\n",
    " \n",
    "# Select row by index\n",
    "print(df.iloc[0])       # first row\n",
    "print(df.loc[0])        # first row using label\n",
    " \n",
    "# Select subset of rows and columns\n",
    "print(df.loc[0:1, ['Name','Sex']])"
   ]
  },
  {
   "cell_type": "markdown",
   "id": "cbe98896",
   "metadata": {},
   "source": [
    "## 6. Filtering & Sorting"
   ]
  },
  {
   "cell_type": "code",
   "execution_count": 18,
   "id": "7aba14c2",
   "metadata": {},
   "outputs": [
    {
     "name": "stdout",
     "output_type": "stream",
     "text": [
      "      Name  Age Sex\n",
      "1      Bob   30   M\n",
      "2  Charlie   35   M\n",
      "\n",
      "      Name  Age Sex\n",
      "2  Charlie   35   M\n",
      "1      Bob   30   M\n",
      "0    Alice   25   F\n"
     ]
    }
   ],
   "source": [
    "\n",
    "# Filter rows\n",
    "print(df[df['Age'] > 28])\n",
    "print()\n",
    "# Sort by Age\n",
    "print(df.sort_values('Age', ascending=False))"
   ]
  },
  {
   "cell_type": "markdown",
   "id": "d96dc634",
   "metadata": {},
   "source": [
    "## 7. Adding & Removing Columns"
   ]
  },
  {
   "cell_type": "code",
   "execution_count": 20,
   "id": "f45640e8",
   "metadata": {},
   "outputs": [
    {
     "name": "stdout",
     "output_type": "stream",
     "text": [
      "      Name  Age Sex  Age_in_5yrs\n",
      "0    Alice   25   F           30\n",
      "1      Bob   30   M           35\n",
      "2  Charlie   35   M           40\n",
      "      Name  Age Sex\n",
      "0    Alice   25   F\n",
      "1      Bob   30   M\n",
      "2  Charlie   35   M\n"
     ]
    }
   ],
   "source": [
    "# Add new column\n",
    "df['Age_in_5yrs'] = df['Age'] + 5\n",
    "print(df)\n",
    " \n",
    "# Drop column\n",
    "df = df.drop('Age_in_5yrs', axis=1)\n",
    "print(df)\n",
    " \n",
    " "
   ]
  },
  {
   "cell_type": "markdown",
   "id": "1c56115d",
   "metadata": {},
   "source": [
    "## 8. GroupBy & Aggregation"
   ]
  },
  {
   "cell_type": "code",
   "execution_count": 21,
   "id": "84079c97",
   "metadata": {},
   "outputs": [
    {
     "name": "stdout",
     "output_type": "stream",
     "text": [
      "         Score\n",
      "Name          \n",
      "Alice     82.5\n",
      "Bob       80.0\n",
      "Charlie   95.0\n"
     ]
    }
   ],
   "source": [
    "data = {'Name':['Alice','Bob','Charlie','Alice','Bob'],\n",
    "        'Score':[85,90,95,80,70]}\n",
    "df = pd.DataFrame(data)\n",
    " \n",
    "# Group by Name and calculate mean score\n",
    "grouped = df.groupby('Name').mean()\n",
    "print(grouped)"
   ]
  },
  {
   "cell_type": "markdown",
   "id": "8ab65f06",
   "metadata": {},
   "source": [
    "## 9. Handling Missing Data"
   ]
  },
  {
   "cell_type": "code",
   "execution_count": 22,
   "id": "0c6d024a",
   "metadata": {},
   "outputs": [
    {
     "name": "stdout",
     "output_type": "stream",
     "text": [
      "      Name        Age\n",
      "0    Alice  25.000000\n",
      "1      Bob  33.333333\n",
      "2  Charlie  35.000000\n",
      "3    David  40.000000\n"
     ]
    }
   ],
   "source": [
    "data = {'Name':['Alice','Bob','Charlie','David'],\n",
    "        'Age':[25, None, 35, 40]}\n",
    "df = pd.DataFrame(data)\n",
    " \n",
    "# Fill missing value\n",
    "df['Age'] = df['Age'].fillna(df['Age'].mean())\n",
    "print(df)\n",
    " \n",
    "# Drop rows with missing values\n",
    "# df = df.dropna()\n",
    " "
   ]
  }
 ],
 "metadata": {
  "kernelspec": {
   "display_name": "base",
   "language": "python",
   "name": "python3"
  },
  "language_info": {
   "codemirror_mode": {
    "name": "ipython",
    "version": 3
   },
   "file_extension": ".py",
   "mimetype": "text/x-python",
   "name": "python",
   "nbconvert_exporter": "python",
   "pygments_lexer": "ipython3",
   "version": "3.13.5"
  }
 },
 "nbformat": 4,
 "nbformat_minor": 5
}
